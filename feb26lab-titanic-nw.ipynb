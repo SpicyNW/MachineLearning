{
 "cells": [
  {
   "cell_type": "code",
   "execution_count": 1,
   "id": "74b44778",
   "metadata": {
    "_cell_guid": "b1076dfc-b9ad-4769-8c92-a6c4dae69d19",
    "_uuid": "8f2839f25d086af736a60e9eeb907d3b93b6e0e5",
    "execution": {
     "iopub.execute_input": "2024-03-20T17:26:39.806460Z",
     "iopub.status.busy": "2024-03-20T17:26:39.806078Z",
     "iopub.status.idle": "2024-03-20T17:26:40.810062Z",
     "shell.execute_reply": "2024-03-20T17:26:40.808808Z"
    },
    "papermill": {
     "duration": 1.014449,
     "end_time": "2024-03-20T17:26:40.812739",
     "exception": false,
     "start_time": "2024-03-20T17:26:39.798290",
     "status": "completed"
    },
    "tags": []
   },
   "outputs": [
    {
     "name": "stdout",
     "output_type": "stream",
     "text": [
      "/kaggle/input/titanic/train.csv\n",
      "/kaggle/input/titanic/test.csv\n",
      "/kaggle/input/titanic/gender_submission.csv\n"
     ]
    }
   ],
   "source": [
    "# This Python 3 environment comes with many helpful analytics libraries installed\n",
    "# It is defined by the kaggle/python Docker image: https://github.com/kaggle/docker-python\n",
    "# For example, here's several helpful packages to load\n",
    "\n",
    "import numpy as np # linear algebra\n",
    "import pandas as pd # data processing, CSV file I/O (e.g. pd.read_csv)\n",
    "\n",
    "# Input data files are available in the read-only \"../input/\" directory\n",
    "# For example, running this (by clicking run or pressing Shift+Enter) will list all files under the input directory\n",
    "\n",
    "import os\n",
    "for dirname, _, filenames in os.walk('/kaggle/input'):\n",
    "    for filename in filenames:\n",
    "        print(os.path.join(dirname, filename))\n",
    "\n",
    "# You can write up to 20GB to the current directory (/kaggle/working/) that gets preserved as output when you create a version using \"Save & Run All\" \n",
    "# You can also write temporary files to /kaggle/temp/, but they won't be saved outside of the current session"
   ]
  },
  {
   "cell_type": "code",
   "execution_count": 2,
   "id": "7c8040eb",
   "metadata": {
    "execution": {
     "iopub.execute_input": "2024-03-20T17:26:40.828194Z",
     "iopub.status.busy": "2024-03-20T17:26:40.827349Z",
     "iopub.status.idle": "2024-03-20T17:26:42.979593Z",
     "shell.execute_reply": "2024-03-20T17:26:42.978304Z"
    },
    "papermill": {
     "duration": 2.163675,
     "end_time": "2024-03-20T17:26:42.983257",
     "exception": false,
     "start_time": "2024-03-20T17:26:40.819582",
     "status": "completed"
    },
    "tags": []
   },
   "outputs": [],
   "source": [
    "# Adding imports for different classifier Algorithms\n",
    "from sklearn.neighbors import KNeighborsClassifier\n",
    "from sklearn.svm import SVC\n",
    "from sklearn.tree import DecisionTreeClassifier\n",
    "from sklearn.linear_model import LogisticRegression\n",
    "from sklearn.ensemble import GradientBoostingClassifier\n",
    "from xgboost import XGBClassifier\n",
    "from sklearn.ensemble import RandomForestClassifier\n",
    "from sklearn.ensemble import AdaBoostClassifier\n",
    "from sklearn.naive_bayes import MultinomialNB\n",
    "\n",
    "from sklearn.metrics import accuracy_score,precision_score,recall_score,f1_score\n",
    "from sklearn.metrics import confusion_matrix,classification_report"
   ]
  },
  {
   "cell_type": "markdown",
   "id": "9c0a2425",
   "metadata": {
    "papermill": {
     "duration": 0.005723,
     "end_time": "2024-03-20T17:26:42.995121",
     "exception": false,
     "start_time": "2024-03-20T17:26:42.989398",
     "status": "completed"
    },
    "tags": []
   },
   "source": [
    "**Parameters of Classification Algorithms**\n",
    "n_neighbors: just for KNN - defines the number of data points a new point will be compared with. the most frequent target out of those neighbors will be the new points classification\n",
    "\n",
    "C, alpha: adjust how restricted the model is. Restriction helps prevent overfitting\n",
    "\n",
    "max_depth: used for decision tree algorithms. A method of pre pruning that helps prevent overfitting. says that the tree cannot exceed n levels\n",
    "\n",
    "n_estimators: used for gradient boosting. the number of simple trees that are generated\n",
    "\n",
    "learning_rate: used for gradient boosting. the strength that new trees learn from the mistakes of old trees. Higher number means more learning. can lead to overfitting if too high."
   ]
  },
  {
   "cell_type": "code",
   "execution_count": 3,
   "id": "871d1b58",
   "metadata": {
    "execution": {
     "iopub.execute_input": "2024-03-20T17:26:43.013698Z",
     "iopub.status.busy": "2024-03-20T17:26:43.013259Z",
     "iopub.status.idle": "2024-03-20T17:26:43.024882Z",
     "shell.execute_reply": "2024-03-20T17:26:43.023365Z"
    },
    "papermill": {
     "duration": 0.024649,
     "end_time": "2024-03-20T17:26:43.027220",
     "exception": false,
     "start_time": "2024-03-20T17:26:43.002571",
     "status": "completed"
    },
    "tags": []
   },
   "outputs": [],
   "source": [
    "# defining the function that calls all classification algorithms\n",
    "def classification_(x,y):\n",
    "    \n",
    "    k=KNeighborsClassifier(n_neighbors = 3)\n",
    "    svc=SVC(C=10)\n",
    "    d=DecisionTreeClassifier(max_depth=6)\n",
    "    log=LogisticRegression()\n",
    "    gbc=GradientBoostingClassifier(n_estimators=1200, learning_rate = 0.1)\n",
    "    mn=MultinomialNB(alpha=.5)\n",
    "    rf=RandomForestClassifier(max_depth=4)\n",
    "    ab=AdaBoostClassifier(n_estimators = 1200)\n",
    "    \n",
    "    algos=[k,svc,d,log,gbc,mn,rf,ab]\n",
    "    algos_name=['KNeigbors','SVC','DecisionTree','LogisticRegr','GradientBoosting','Multinominal','RandomForest','AdaBoost']\n",
    "    \n",
    "    accuracy = []\n",
    "    precision = []\n",
    "    recall = []\n",
    "    f1 = []\n",
    "   \n",
    "    result=pd.DataFrame(columns=['AccuracyScore','PrecisionScore','RecallScore','f1_Score'],index=algos_name)\n",
    "\n",
    "    x_train,x_test,y_train,y_test=train_test_split(x,y,random_state=42)\n",
    "\n",
    "    for i in algos:\n",
    "        \n",
    "        predict=i.fit(x_train,y_train).predict(x_test)\n",
    "        \n",
    "        accuracy.append(accuracy_score(y_test,predict))\n",
    "        precision.append(precision_score(y_test,predict,average='weighted'))\n",
    "        recall.append(recall_score(y_test,predict,average='weighted'))\n",
    "        f1.append(f1_score(y_test,predict,average='weighted'))\n",
    "      \n",
    "    result.AccuracyScore=accuracy\n",
    "    result.PrecisionScore=precision\n",
    "    result.RecallScore=recall\n",
    "    result.f1_Score=f1\n",
    "    \n",
    "    \n",
    "    return result.sort_values('f1_Score',ascending=False)"
   ]
  },
  {
   "cell_type": "markdown",
   "id": "2121ebd0",
   "metadata": {
    "papermill": {
     "duration": 0.005388,
     "end_time": "2024-03-20T17:26:43.038424",
     "exception": false,
     "start_time": "2024-03-20T17:26:43.033036",
     "status": "completed"
    },
    "tags": []
   },
   "source": [
    "**Strengths and Weaknesses**\n",
    "SVC: works well regardless of the number of features. Require careful preprocessing of data and parameter tuning. Doesn't scale well when data sample gets very large.\n",
    "\n",
    "KNN: Doesn't scale well but can be very good for classification\n",
    "\n",
    "DecisionTree, GradientBoosting, RandomForest, AdaBoost: all tree models scale well with large sample sizes. No preprocessing of data is necessary. Might not work well if there are many features. \n",
    "\n",
    "MultinomialNB: Simple. Only one parameter - alpha. Very fast in training and prediction. Good place to start with a new data set.\n",
    "\n",
    "Logistic Regression: Very fast to train and predict. Work well with large datasets and sparse data. Work well when the data has a large number of features."
   ]
  },
  {
   "cell_type": "code",
   "execution_count": 4,
   "id": "95763248",
   "metadata": {
    "execution": {
     "iopub.execute_input": "2024-03-20T17:26:43.052044Z",
     "iopub.status.busy": "2024-03-20T17:26:43.051291Z",
     "iopub.status.idle": "2024-03-20T17:26:43.087368Z",
     "shell.execute_reply": "2024-03-20T17:26:43.086260Z"
    },
    "papermill": {
     "duration": 0.04598,
     "end_time": "2024-03-20T17:26:43.089944",
     "exception": false,
     "start_time": "2024-03-20T17:26:43.043964",
     "status": "completed"
    },
    "tags": []
   },
   "outputs": [],
   "source": [
    "train = pd.read_csv('/kaggle/input/titanic/train.csv')\n",
    "test = pd.read_csv('/kaggle/input/titanic/test.csv')\n",
    "test_ids = test[\"PassengerId\"]"
   ]
  },
  {
   "cell_type": "code",
   "execution_count": 5,
   "id": "883897bb",
   "metadata": {
    "execution": {
     "iopub.execute_input": "2024-03-20T17:26:43.103980Z",
     "iopub.status.busy": "2024-03-20T17:26:43.103295Z",
     "iopub.status.idle": "2024-03-20T17:26:43.117781Z",
     "shell.execute_reply": "2024-03-20T17:26:43.116851Z"
    },
    "papermill": {
     "duration": 0.024205,
     "end_time": "2024-03-20T17:26:43.120137",
     "exception": false,
     "start_time": "2024-03-20T17:26:43.095932",
     "status": "completed"
    },
    "tags": []
   },
   "outputs": [
    {
     "data": {
      "text/plain": [
       "PassengerId      0\n",
       "Survived         0\n",
       "Pclass           0\n",
       "Name             0\n",
       "Sex              0\n",
       "Age            177\n",
       "SibSp            0\n",
       "Parch            0\n",
       "Ticket           0\n",
       "Fare             0\n",
       "Cabin          687\n",
       "Embarked         2\n",
       "dtype: int64"
      ]
     },
     "execution_count": 5,
     "metadata": {},
     "output_type": "execute_result"
    }
   ],
   "source": [
    "train.isnull().sum()"
   ]
  },
  {
   "cell_type": "code",
   "execution_count": 6,
   "id": "70b7588d",
   "metadata": {
    "execution": {
     "iopub.execute_input": "2024-03-20T17:26:43.134671Z",
     "iopub.status.busy": "2024-03-20T17:26:43.133910Z",
     "iopub.status.idle": "2024-03-20T17:26:43.144063Z",
     "shell.execute_reply": "2024-03-20T17:26:43.141936Z"
    },
    "papermill": {
     "duration": 0.020672,
     "end_time": "2024-03-20T17:26:43.146873",
     "exception": false,
     "start_time": "2024-03-20T17:26:43.126201",
     "status": "completed"
    },
    "tags": []
   },
   "outputs": [
    {
     "data": {
      "text/plain": [
       "PassengerId      0\n",
       "Pclass           0\n",
       "Name             0\n",
       "Sex              0\n",
       "Age             86\n",
       "SibSp            0\n",
       "Parch            0\n",
       "Ticket           0\n",
       "Fare             1\n",
       "Cabin          327\n",
       "Embarked         0\n",
       "dtype: int64"
      ]
     },
     "execution_count": 6,
     "metadata": {},
     "output_type": "execute_result"
    }
   ],
   "source": [
    "test.isnull().sum()"
   ]
  },
  {
   "cell_type": "code",
   "execution_count": 7,
   "id": "9892e741",
   "metadata": {
    "execution": {
     "iopub.execute_input": "2024-03-20T17:26:43.162206Z",
     "iopub.status.busy": "2024-03-20T17:26:43.161378Z",
     "iopub.status.idle": "2024-03-20T17:26:43.190163Z",
     "shell.execute_reply": "2024-03-20T17:26:43.188909Z"
    },
    "papermill": {
     "duration": 0.039933,
     "end_time": "2024-03-20T17:26:43.193468",
     "exception": false,
     "start_time": "2024-03-20T17:26:43.153535",
     "status": "completed"
    },
    "tags": []
   },
   "outputs": [
    {
     "name": "stderr",
     "output_type": "stream",
     "text": [
      "/tmp/ipykernel_18/3781635773.py:6: FutureWarning: A value is trying to be set on a copy of a DataFrame or Series through chained assignment using an inplace method.\n",
      "The behavior will change in pandas 3.0. This inplace method will never work because the intermediate object on which we are setting values always behaves as a copy.\n",
      "\n",
      "For example, when doing 'df[col].method(value, inplace=True)', try using 'df.method({col: value}, inplace=True)' or df[col] = df[col].method(value) instead, to perform the operation inplace on the original object.\n",
      "\n",
      "\n",
      "  data[col].fillna(data[col].median(), inplace=True)\n",
      "/tmp/ipykernel_18/3781635773.py:6: FutureWarning: A value is trying to be set on a copy of a DataFrame or Series through chained assignment using an inplace method.\n",
      "The behavior will change in pandas 3.0. This inplace method will never work because the intermediate object on which we are setting values always behaves as a copy.\n",
      "\n",
      "For example, when doing 'df[col].method(value, inplace=True)', try using 'df.method({col: value}, inplace=True)' or df[col] = df[col].method(value) instead, to perform the operation inplace on the original object.\n",
      "\n",
      "\n",
      "  data[col].fillna(data[col].median(), inplace=True)\n",
      "/tmp/ipykernel_18/3781635773.py:6: FutureWarning: A value is trying to be set on a copy of a DataFrame or Series through chained assignment using an inplace method.\n",
      "The behavior will change in pandas 3.0. This inplace method will never work because the intermediate object on which we are setting values always behaves as a copy.\n",
      "\n",
      "For example, when doing 'df[col].method(value, inplace=True)', try using 'df.method({col: value}, inplace=True)' or df[col] = df[col].method(value) instead, to perform the operation inplace on the original object.\n",
      "\n",
      "\n",
      "  data[col].fillna(data[col].median(), inplace=True)\n",
      "/tmp/ipykernel_18/3781635773.py:6: FutureWarning: A value is trying to be set on a copy of a DataFrame or Series through chained assignment using an inplace method.\n",
      "The behavior will change in pandas 3.0. This inplace method will never work because the intermediate object on which we are setting values always behaves as a copy.\n",
      "\n",
      "For example, when doing 'df[col].method(value, inplace=True)', try using 'df.method({col: value}, inplace=True)' or df[col] = df[col].method(value) instead, to perform the operation inplace on the original object.\n",
      "\n",
      "\n",
      "  data[col].fillna(data[col].median(), inplace=True)\n",
      "/tmp/ipykernel_18/3781635773.py:8: FutureWarning: A value is trying to be set on a copy of a DataFrame or Series through chained assignment using an inplace method.\n",
      "The behavior will change in pandas 3.0. This inplace method will never work because the intermediate object on which we are setting values always behaves as a copy.\n",
      "\n",
      "For example, when doing 'df[col].method(value, inplace=True)', try using 'df.method({col: value}, inplace=True)' or df[col] = df[col].method(value) instead, to perform the operation inplace on the original object.\n",
      "\n",
      "\n",
      "  data.Embarked.fillna(\"U\", inplace=True)\n",
      "/tmp/ipykernel_18/3781635773.py:6: FutureWarning: A value is trying to be set on a copy of a DataFrame or Series through chained assignment using an inplace method.\n",
      "The behavior will change in pandas 3.0. This inplace method will never work because the intermediate object on which we are setting values always behaves as a copy.\n",
      "\n",
      "For example, when doing 'df[col].method(value, inplace=True)', try using 'df.method({col: value}, inplace=True)' or df[col] = df[col].method(value) instead, to perform the operation inplace on the original object.\n",
      "\n",
      "\n",
      "  data[col].fillna(data[col].median(), inplace=True)\n",
      "/tmp/ipykernel_18/3781635773.py:6: FutureWarning: A value is trying to be set on a copy of a DataFrame or Series through chained assignment using an inplace method.\n",
      "The behavior will change in pandas 3.0. This inplace method will never work because the intermediate object on which we are setting values always behaves as a copy.\n",
      "\n",
      "For example, when doing 'df[col].method(value, inplace=True)', try using 'df.method({col: value}, inplace=True)' or df[col] = df[col].method(value) instead, to perform the operation inplace on the original object.\n",
      "\n",
      "\n",
      "  data[col].fillna(data[col].median(), inplace=True)\n",
      "/tmp/ipykernel_18/3781635773.py:6: FutureWarning: A value is trying to be set on a copy of a DataFrame or Series through chained assignment using an inplace method.\n",
      "The behavior will change in pandas 3.0. This inplace method will never work because the intermediate object on which we are setting values always behaves as a copy.\n",
      "\n",
      "For example, when doing 'df[col].method(value, inplace=True)', try using 'df.method({col: value}, inplace=True)' or df[col] = df[col].method(value) instead, to perform the operation inplace on the original object.\n",
      "\n",
      "\n",
      "  data[col].fillna(data[col].median(), inplace=True)\n",
      "/tmp/ipykernel_18/3781635773.py:6: FutureWarning: A value is trying to be set on a copy of a DataFrame or Series through chained assignment using an inplace method.\n",
      "The behavior will change in pandas 3.0. This inplace method will never work because the intermediate object on which we are setting values always behaves as a copy.\n",
      "\n",
      "For example, when doing 'df[col].method(value, inplace=True)', try using 'df.method({col: value}, inplace=True)' or df[col] = df[col].method(value) instead, to perform the operation inplace on the original object.\n",
      "\n",
      "\n",
      "  data[col].fillna(data[col].median(), inplace=True)\n",
      "/tmp/ipykernel_18/3781635773.py:8: FutureWarning: A value is trying to be set on a copy of a DataFrame or Series through chained assignment using an inplace method.\n",
      "The behavior will change in pandas 3.0. This inplace method will never work because the intermediate object on which we are setting values always behaves as a copy.\n",
      "\n",
      "For example, when doing 'df[col].method(value, inplace=True)', try using 'df.method({col: value}, inplace=True)' or df[col] = df[col].method(value) instead, to perform the operation inplace on the original object.\n",
      "\n",
      "\n",
      "  data.Embarked.fillna(\"U\", inplace=True)\n"
     ]
    }
   ],
   "source": [
    "def clean(data):\n",
    "    data = data.drop([\"Ticket\", \"PassengerId\", \"Name\", \"Cabin\"], axis=1)\n",
    "    cols = [\"SibSp\", \"Parch\", \"Fare\", \"Age\"]\n",
    "    \n",
    "    for col in cols:\n",
    "        data[col].fillna(data[col].median(), inplace=True)\n",
    "\n",
    "    data.Embarked.fillna(\"U\", inplace=True)\n",
    "    return data\n",
    "\n",
    "train = clean(train)\n",
    "test = clean(test)"
   ]
  },
  {
   "cell_type": "code",
   "execution_count": 8,
   "id": "2a9695ba",
   "metadata": {
    "execution": {
     "iopub.execute_input": "2024-03-20T17:26:43.209168Z",
     "iopub.status.busy": "2024-03-20T17:26:43.207870Z",
     "iopub.status.idle": "2024-03-20T17:26:43.334801Z",
     "shell.execute_reply": "2024-03-20T17:26:43.333293Z"
    },
    "papermill": {
     "duration": 0.137505,
     "end_time": "2024-03-20T17:26:43.337517",
     "exception": false,
     "start_time": "2024-03-20T17:26:43.200012",
     "status": "completed"
    },
    "tags": []
   },
   "outputs": [],
   "source": [
    "# HW 2\n",
    "famSizes = []\n",
    "for row in range(train.shape[0]):\n",
    "    famTotal = train.iloc[row][\"SibSp\"] + train.iloc[row][\"Parch\"] + 1\n",
    "    famSizes.append(famTotal)\n",
    "train.insert(8, \"FamilySize\", famSizes)"
   ]
  },
  {
   "cell_type": "code",
   "execution_count": 9,
   "id": "80757b33",
   "metadata": {
    "execution": {
     "iopub.execute_input": "2024-03-20T17:26:43.353450Z",
     "iopub.status.busy": "2024-03-20T17:26:43.352981Z",
     "iopub.status.idle": "2024-03-20T17:26:43.417432Z",
     "shell.execute_reply": "2024-03-20T17:26:43.416116Z"
    },
    "papermill": {
     "duration": 0.076191,
     "end_time": "2024-03-20T17:26:43.420126",
     "exception": false,
     "start_time": "2024-03-20T17:26:43.343935",
     "status": "completed"
    },
    "tags": []
   },
   "outputs": [],
   "source": [
    "# HW 2 \n",
    "famSizes = []\n",
    "for row in range(test.shape[0]):\n",
    "    famTotal = test.iloc[row][\"SibSp\"] + test.iloc[row][\"Parch\"] + 1\n",
    "    famSizes.append(famTotal)\n",
    "test.insert(7, \"FamilySize\", famSizes)"
   ]
  },
  {
   "cell_type": "code",
   "execution_count": 10,
   "id": "0795c744",
   "metadata": {
    "execution": {
     "iopub.execute_input": "2024-03-20T17:26:43.435273Z",
     "iopub.status.busy": "2024-03-20T17:26:43.433935Z",
     "iopub.status.idle": "2024-03-20T17:26:43.454651Z",
     "shell.execute_reply": "2024-03-20T17:26:43.453169Z"
    },
    "papermill": {
     "duration": 0.031109,
     "end_time": "2024-03-20T17:26:43.457274",
     "exception": false,
     "start_time": "2024-03-20T17:26:43.426165",
     "status": "completed"
    },
    "tags": []
   },
   "outputs": [
    {
     "data": {
      "text/html": [
       "<div>\n",
       "<style scoped>\n",
       "    .dataframe tbody tr th:only-of-type {\n",
       "        vertical-align: middle;\n",
       "    }\n",
       "\n",
       "    .dataframe tbody tr th {\n",
       "        vertical-align: top;\n",
       "    }\n",
       "\n",
       "    .dataframe thead th {\n",
       "        text-align: right;\n",
       "    }\n",
       "</style>\n",
       "<table border=\"1\" class=\"dataframe\">\n",
       "  <thead>\n",
       "    <tr style=\"text-align: right;\">\n",
       "      <th></th>\n",
       "      <th>Survived</th>\n",
       "      <th>Pclass</th>\n",
       "      <th>Sex</th>\n",
       "      <th>Age</th>\n",
       "      <th>SibSp</th>\n",
       "      <th>Parch</th>\n",
       "      <th>Fare</th>\n",
       "      <th>Embarked</th>\n",
       "      <th>FamilySize</th>\n",
       "    </tr>\n",
       "  </thead>\n",
       "  <tbody>\n",
       "    <tr>\n",
       "      <th>0</th>\n",
       "      <td>0</td>\n",
       "      <td>3</td>\n",
       "      <td>male</td>\n",
       "      <td>22.0</td>\n",
       "      <td>1</td>\n",
       "      <td>0</td>\n",
       "      <td>7.2500</td>\n",
       "      <td>S</td>\n",
       "      <td>2</td>\n",
       "    </tr>\n",
       "    <tr>\n",
       "      <th>1</th>\n",
       "      <td>1</td>\n",
       "      <td>1</td>\n",
       "      <td>female</td>\n",
       "      <td>38.0</td>\n",
       "      <td>1</td>\n",
       "      <td>0</td>\n",
       "      <td>71.2833</td>\n",
       "      <td>C</td>\n",
       "      <td>2</td>\n",
       "    </tr>\n",
       "    <tr>\n",
       "      <th>2</th>\n",
       "      <td>1</td>\n",
       "      <td>3</td>\n",
       "      <td>female</td>\n",
       "      <td>26.0</td>\n",
       "      <td>0</td>\n",
       "      <td>0</td>\n",
       "      <td>7.9250</td>\n",
       "      <td>S</td>\n",
       "      <td>1</td>\n",
       "    </tr>\n",
       "    <tr>\n",
       "      <th>3</th>\n",
       "      <td>1</td>\n",
       "      <td>1</td>\n",
       "      <td>female</td>\n",
       "      <td>35.0</td>\n",
       "      <td>1</td>\n",
       "      <td>0</td>\n",
       "      <td>53.1000</td>\n",
       "      <td>S</td>\n",
       "      <td>2</td>\n",
       "    </tr>\n",
       "    <tr>\n",
       "      <th>4</th>\n",
       "      <td>0</td>\n",
       "      <td>3</td>\n",
       "      <td>male</td>\n",
       "      <td>35.0</td>\n",
       "      <td>0</td>\n",
       "      <td>0</td>\n",
       "      <td>8.0500</td>\n",
       "      <td>S</td>\n",
       "      <td>1</td>\n",
       "    </tr>\n",
       "  </tbody>\n",
       "</table>\n",
       "</div>"
      ],
      "text/plain": [
       "   Survived  Pclass     Sex   Age  SibSp  Parch     Fare Embarked  FamilySize\n",
       "0         0       3    male  22.0      1      0   7.2500        S           2\n",
       "1         1       1  female  38.0      1      0  71.2833        C           2\n",
       "2         1       3  female  26.0      0      0   7.9250        S           1\n",
       "3         1       1  female  35.0      1      0  53.1000        S           2\n",
       "4         0       3    male  35.0      0      0   8.0500        S           1"
      ]
     },
     "execution_count": 10,
     "metadata": {},
     "output_type": "execute_result"
    }
   ],
   "source": [
    "train.head()"
   ]
  },
  {
   "cell_type": "code",
   "execution_count": 11,
   "id": "b46596df",
   "metadata": {
    "execution": {
     "iopub.execute_input": "2024-03-20T17:26:43.472495Z",
     "iopub.status.busy": "2024-03-20T17:26:43.471589Z",
     "iopub.status.idle": "2024-03-20T17:26:43.492422Z",
     "shell.execute_reply": "2024-03-20T17:26:43.490999Z"
    },
    "papermill": {
     "duration": 0.032901,
     "end_time": "2024-03-20T17:26:43.496505",
     "exception": false,
     "start_time": "2024-03-20T17:26:43.463604",
     "status": "completed"
    },
    "tags": []
   },
   "outputs": [
    {
     "name": "stdout",
     "output_type": "stream",
     "text": [
      "['female' 'male']\n",
      "['C' 'Q' 'S' 'U']\n"
     ]
    },
    {
     "data": {
      "text/html": [
       "<div>\n",
       "<style scoped>\n",
       "    .dataframe tbody tr th:only-of-type {\n",
       "        vertical-align: middle;\n",
       "    }\n",
       "\n",
       "    .dataframe tbody tr th {\n",
       "        vertical-align: top;\n",
       "    }\n",
       "\n",
       "    .dataframe thead th {\n",
       "        text-align: right;\n",
       "    }\n",
       "</style>\n",
       "<table border=\"1\" class=\"dataframe\">\n",
       "  <thead>\n",
       "    <tr style=\"text-align: right;\">\n",
       "      <th></th>\n",
       "      <th>Survived</th>\n",
       "      <th>Pclass</th>\n",
       "      <th>Sex</th>\n",
       "      <th>Age</th>\n",
       "      <th>SibSp</th>\n",
       "      <th>Parch</th>\n",
       "      <th>Fare</th>\n",
       "      <th>Embarked</th>\n",
       "      <th>FamilySize</th>\n",
       "    </tr>\n",
       "  </thead>\n",
       "  <tbody>\n",
       "    <tr>\n",
       "      <th>0</th>\n",
       "      <td>0</td>\n",
       "      <td>3</td>\n",
       "      <td>1</td>\n",
       "      <td>22.0</td>\n",
       "      <td>1</td>\n",
       "      <td>0</td>\n",
       "      <td>7.2500</td>\n",
       "      <td>2</td>\n",
       "      <td>2</td>\n",
       "    </tr>\n",
       "    <tr>\n",
       "      <th>1</th>\n",
       "      <td>1</td>\n",
       "      <td>1</td>\n",
       "      <td>0</td>\n",
       "      <td>38.0</td>\n",
       "      <td>1</td>\n",
       "      <td>0</td>\n",
       "      <td>71.2833</td>\n",
       "      <td>0</td>\n",
       "      <td>2</td>\n",
       "    </tr>\n",
       "    <tr>\n",
       "      <th>2</th>\n",
       "      <td>1</td>\n",
       "      <td>3</td>\n",
       "      <td>0</td>\n",
       "      <td>26.0</td>\n",
       "      <td>0</td>\n",
       "      <td>0</td>\n",
       "      <td>7.9250</td>\n",
       "      <td>2</td>\n",
       "      <td>1</td>\n",
       "    </tr>\n",
       "    <tr>\n",
       "      <th>3</th>\n",
       "      <td>1</td>\n",
       "      <td>1</td>\n",
       "      <td>0</td>\n",
       "      <td>35.0</td>\n",
       "      <td>1</td>\n",
       "      <td>0</td>\n",
       "      <td>53.1000</td>\n",
       "      <td>2</td>\n",
       "      <td>2</td>\n",
       "    </tr>\n",
       "    <tr>\n",
       "      <th>4</th>\n",
       "      <td>0</td>\n",
       "      <td>3</td>\n",
       "      <td>1</td>\n",
       "      <td>35.0</td>\n",
       "      <td>0</td>\n",
       "      <td>0</td>\n",
       "      <td>8.0500</td>\n",
       "      <td>2</td>\n",
       "      <td>1</td>\n",
       "    </tr>\n",
       "  </tbody>\n",
       "</table>\n",
       "</div>"
      ],
      "text/plain": [
       "   Survived  Pclass  Sex   Age  SibSp  Parch     Fare  Embarked  FamilySize\n",
       "0         0       3    1  22.0      1      0   7.2500         2           2\n",
       "1         1       1    0  38.0      1      0  71.2833         0           2\n",
       "2         1       3    0  26.0      0      0   7.9250         2           1\n",
       "3         1       1    0  35.0      1      0  53.1000         2           2\n",
       "4         0       3    1  35.0      0      0   8.0500         2           1"
      ]
     },
     "execution_count": 11,
     "metadata": {},
     "output_type": "execute_result"
    }
   ],
   "source": [
    "# change strings to numbers bc the models don't like strings\n",
    "from sklearn import preprocessing\n",
    "le = preprocessing.LabelEncoder()\n",
    "columns = [\"Sex\", \"Embarked\"]\n",
    "for col in columns:\n",
    "    train[col] = le.fit_transform(train[col])\n",
    "    test[col] = le.transform(test[col])\n",
    "    print(le.classes_)  \n",
    "train.head()"
   ]
  },
  {
   "cell_type": "code",
   "execution_count": 12,
   "id": "d645395a",
   "metadata": {
    "execution": {
     "iopub.execute_input": "2024-03-20T17:26:43.513785Z",
     "iopub.status.busy": "2024-03-20T17:26:43.513002Z",
     "iopub.status.idle": "2024-03-20T17:26:43.564932Z",
     "shell.execute_reply": "2024-03-20T17:26:43.562680Z"
    },
    "papermill": {
     "duration": 0.064963,
     "end_time": "2024-03-20T17:26:43.568730",
     "exception": false,
     "start_time": "2024-03-20T17:26:43.503767",
     "status": "completed"
    },
    "tags": []
   },
   "outputs": [
    {
     "name": "stdout",
     "output_type": "stream",
     "text": [
      "Original shape: (891, 9)\n",
      "Reduced shape: (891, 2)\n"
     ]
    }
   ],
   "source": [
    "# preprocessing using zero mean and unit variance scaling\n",
    "from sklearn.preprocessing import StandardScaler\n",
    "scaler = StandardScaler()\n",
    "scaler.fit(train)\n",
    "#scaler.fit(test)\n",
    "X_scaled = scaler.transform(train)\n",
    "X_test_scaled = scaler.transform(train)\n",
    "\n",
    "from sklearn.decomposition import PCA\n",
    "# keep the first two principal components of the data\n",
    "pca = PCA(n_components=2)\n",
    "# fit PCA model to beast cancer data\n",
    "pca.fit(X_scaled)\n",
    "pca.fit(X_test_scaled)\n",
    "\n",
    "# transform data onto the first two principal components\n",
    "X_train_pca = pca.transform(X_scaled)\n",
    "x_test_pca = pca.transform(X_test_scaled)\n",
    "print(\"Original shape: {}\".format(str(X_scaled.shape)))\n",
    "print(\"Reduced shape: {}\".format(str(X_train_pca.shape)))"
   ]
  },
  {
   "cell_type": "code",
   "execution_count": 13,
   "id": "4cbd0acf",
   "metadata": {
    "execution": {
     "iopub.execute_input": "2024-03-20T17:26:43.586370Z",
     "iopub.status.busy": "2024-03-20T17:26:43.585912Z",
     "iopub.status.idle": "2024-03-20T17:26:43.597828Z",
     "shell.execute_reply": "2024-03-20T17:26:43.596568Z"
    },
    "papermill": {
     "duration": 0.023938,
     "end_time": "2024-03-20T17:26:43.600670",
     "exception": false,
     "start_time": "2024-03-20T17:26:43.576732",
     "status": "completed"
    },
    "tags": []
   },
   "outputs": [],
   "source": [
    "from sklearn.linear_model import LogisticRegression\n",
    "from sklearn.model_selection import train_test_split\n",
    "\n",
    "y = train[\"Survived\"]\n",
    "X = train.drop(\"Survived\", axis=1)\n",
    "X_train, X_val, y_train, y_val = train_test_split(X, y, test_size=0.2, random_state=42)"
   ]
  },
  {
   "cell_type": "markdown",
   "id": "a242a0c2",
   "metadata": {
    "papermill": {
     "duration": 0.00697,
     "end_time": "2024-03-20T17:26:43.614798",
     "exception": false,
     "start_time": "2024-03-20T17:26:43.607828",
     "status": "completed"
    },
    "tags": []
   },
   "source": [
    "Change the 3 lines below, comment them, do not erase them!\n",
    "change them so that KNN is applied instead of Logistic Regression and re-submit and see if it did better!"
   ]
  },
  {
   "cell_type": "code",
   "execution_count": 14,
   "id": "19dd2019",
   "metadata": {
    "execution": {
     "iopub.execute_input": "2024-03-20T17:26:43.631998Z",
     "iopub.status.busy": "2024-03-20T17:26:43.631142Z",
     "iopub.status.idle": "2024-03-20T17:26:47.686328Z",
     "shell.execute_reply": "2024-03-20T17:26:47.685050Z"
    },
    "papermill": {
     "duration": 4.066075,
     "end_time": "2024-03-20T17:26:47.688672",
     "exception": false,
     "start_time": "2024-03-20T17:26:43.622597",
     "status": "completed"
    },
    "tags": []
   },
   "outputs": [
    {
     "name": "stderr",
     "output_type": "stream",
     "text": [
      "/opt/conda/lib/python3.10/site-packages/sklearn/linear_model/_logistic.py:458: ConvergenceWarning: lbfgs failed to converge (status=1):\n",
      "STOP: TOTAL NO. of ITERATIONS REACHED LIMIT.\n",
      "\n",
      "Increase the number of iterations (max_iter) or scale the data as shown in:\n",
      "    https://scikit-learn.org/stable/modules/preprocessing.html\n",
      "Please also refer to the documentation for alternative solver options:\n",
      "    https://scikit-learn.org/stable/modules/linear_model.html#logistic-regression\n",
      "  n_iter_i = _check_optimize_result(\n"
     ]
    },
    {
     "data": {
      "text/html": [
       "<div>\n",
       "<style scoped>\n",
       "    .dataframe tbody tr th:only-of-type {\n",
       "        vertical-align: middle;\n",
       "    }\n",
       "\n",
       "    .dataframe tbody tr th {\n",
       "        vertical-align: top;\n",
       "    }\n",
       "\n",
       "    .dataframe thead th {\n",
       "        text-align: right;\n",
       "    }\n",
       "</style>\n",
       "<table border=\"1\" class=\"dataframe\">\n",
       "  <thead>\n",
       "    <tr style=\"text-align: right;\">\n",
       "      <th></th>\n",
       "      <th>AccuracyScore</th>\n",
       "      <th>PrecisionScore</th>\n",
       "      <th>RecallScore</th>\n",
       "      <th>f1_Score</th>\n",
       "    </tr>\n",
       "  </thead>\n",
       "  <tbody>\n",
       "    <tr>\n",
       "      <th>GradientBoosting</th>\n",
       "      <td>0.820225</td>\n",
       "      <td>0.821502</td>\n",
       "      <td>0.820225</td>\n",
       "      <td>0.820757</td>\n",
       "    </tr>\n",
       "    <tr>\n",
       "      <th>LogisticRegr</th>\n",
       "      <td>0.814607</td>\n",
       "      <td>0.813232</td>\n",
       "      <td>0.814607</td>\n",
       "      <td>0.813676</td>\n",
       "    </tr>\n",
       "    <tr>\n",
       "      <th>RandomForest</th>\n",
       "      <td>0.814607</td>\n",
       "      <td>0.812721</td>\n",
       "      <td>0.814607</td>\n",
       "      <td>0.812981</td>\n",
       "    </tr>\n",
       "    <tr>\n",
       "      <th>DecisionTree</th>\n",
       "      <td>0.803371</td>\n",
       "      <td>0.801032</td>\n",
       "      <td>0.803371</td>\n",
       "      <td>0.799975</td>\n",
       "    </tr>\n",
       "    <tr>\n",
       "      <th>AdaBoost</th>\n",
       "      <td>0.792135</td>\n",
       "      <td>0.791524</td>\n",
       "      <td>0.792135</td>\n",
       "      <td>0.791803</td>\n",
       "    </tr>\n",
       "    <tr>\n",
       "      <th>SVC</th>\n",
       "      <td>0.685393</td>\n",
       "      <td>0.683665</td>\n",
       "      <td>0.685393</td>\n",
       "      <td>0.644618</td>\n",
       "    </tr>\n",
       "    <tr>\n",
       "      <th>KNeigbors</th>\n",
       "      <td>0.646067</td>\n",
       "      <td>0.640876</td>\n",
       "      <td>0.646067</td>\n",
       "      <td>0.642964</td>\n",
       "    </tr>\n",
       "    <tr>\n",
       "      <th>Multinominal</th>\n",
       "      <td>0.651685</td>\n",
       "      <td>0.634245</td>\n",
       "      <td>0.651685</td>\n",
       "      <td>0.632429</td>\n",
       "    </tr>\n",
       "  </tbody>\n",
       "</table>\n",
       "</div>"
      ],
      "text/plain": [
       "                  AccuracyScore  PrecisionScore  RecallScore  f1_Score\n",
       "GradientBoosting       0.820225        0.821502     0.820225  0.820757\n",
       "LogisticRegr           0.814607        0.813232     0.814607  0.813676\n",
       "RandomForest           0.814607        0.812721     0.814607  0.812981\n",
       "DecisionTree           0.803371        0.801032     0.803371  0.799975\n",
       "AdaBoost               0.792135        0.791524     0.792135  0.791803\n",
       "SVC                    0.685393        0.683665     0.685393  0.644618\n",
       "KNeigbors              0.646067        0.640876     0.646067  0.642964\n",
       "Multinominal           0.651685        0.634245     0.651685  0.632429"
      ]
     },
     "execution_count": 14,
     "metadata": {},
     "output_type": "execute_result"
    }
   ],
   "source": [
    "# calling the classification function defined above to see how each algorithm is performing\n",
    "\n",
    "classification_(X_train,y_train)"
   ]
  },
  {
   "cell_type": "code",
   "execution_count": 15,
   "id": "e436c5f0",
   "metadata": {
    "execution": {
     "iopub.execute_input": "2024-03-20T17:26:47.705742Z",
     "iopub.status.busy": "2024-03-20T17:26:47.704503Z",
     "iopub.status.idle": "2024-03-20T17:26:47.890273Z",
     "shell.execute_reply": "2024-03-20T17:26:47.889287Z"
    },
    "papermill": {
     "duration": 0.19671,
     "end_time": "2024-03-20T17:26:47.892629",
     "exception": false,
     "start_time": "2024-03-20T17:26:47.695919",
     "status": "completed"
    },
    "tags": []
   },
   "outputs": [],
   "source": [
    "clf = RandomForestClassifier(max_depth=4).fit(X_train, y_train)\n",
    "# Since GradientBoostingClassifier did best according to the table above, we are trying that method and our score got higher\n",
    "#clf = DecisionTreeClassifier(max_depth=6).fit(X_train, y_train)"
   ]
  },
  {
   "cell_type": "code",
   "execution_count": 16,
   "id": "d19c85a7",
   "metadata": {
    "execution": {
     "iopub.execute_input": "2024-03-20T17:26:47.909177Z",
     "iopub.status.busy": "2024-03-20T17:26:47.908446Z",
     "iopub.status.idle": "2024-03-20T17:26:47.925578Z",
     "shell.execute_reply": "2024-03-20T17:26:47.924433Z"
    },
    "papermill": {
     "duration": 0.028001,
     "end_time": "2024-03-20T17:26:47.928105",
     "exception": false,
     "start_time": "2024-03-20T17:26:47.900104",
     "status": "completed"
    },
    "tags": []
   },
   "outputs": [
    {
     "data": {
      "text/plain": [
       "0.8100558659217877"
      ]
     },
     "execution_count": 16,
     "metadata": {},
     "output_type": "execute_result"
    }
   ],
   "source": [
    "predictions = clf.predict(X_val)\n",
    "from sklearn.metrics import accuracy_score\n",
    "accuracy_score(y_val, predictions)"
   ]
  },
  {
   "cell_type": "code",
   "execution_count": 17,
   "id": "62ee5b40",
   "metadata": {
    "execution": {
     "iopub.execute_input": "2024-03-20T17:26:47.943863Z",
     "iopub.status.busy": "2024-03-20T17:26:47.943464Z",
     "iopub.status.idle": "2024-03-20T17:26:47.959272Z",
     "shell.execute_reply": "2024-03-20T17:26:47.958087Z"
    },
    "papermill": {
     "duration": 0.026735,
     "end_time": "2024-03-20T17:26:47.961754",
     "exception": false,
     "start_time": "2024-03-20T17:26:47.935019",
     "status": "completed"
    },
    "tags": []
   },
   "outputs": [],
   "source": [
    "submission_preds = clf.predict(test)"
   ]
  },
  {
   "cell_type": "code",
   "execution_count": 18,
   "id": "c01b02dc",
   "metadata": {
    "execution": {
     "iopub.execute_input": "2024-03-20T17:26:47.978122Z",
     "iopub.status.busy": "2024-03-20T17:26:47.977672Z",
     "iopub.status.idle": "2024-03-20T17:26:47.982963Z",
     "shell.execute_reply": "2024-03-20T17:26:47.981927Z"
    },
    "papermill": {
     "duration": 0.016159,
     "end_time": "2024-03-20T17:26:47.985205",
     "exception": false,
     "start_time": "2024-03-20T17:26:47.969046",
     "status": "completed"
    },
    "tags": []
   },
   "outputs": [],
   "source": [
    "df = pd.DataFrame({\"PassengerId\": test_ids.values,\n",
    "                   \"Survived\": submission_preds,\n",
    "                  })"
   ]
  },
  {
   "cell_type": "code",
   "execution_count": 19,
   "id": "80a801d2",
   "metadata": {
    "execution": {
     "iopub.execute_input": "2024-03-20T17:26:48.001047Z",
     "iopub.status.busy": "2024-03-20T17:26:48.000617Z",
     "iopub.status.idle": "2024-03-20T17:26:48.009740Z",
     "shell.execute_reply": "2024-03-20T17:26:48.008553Z"
    },
    "papermill": {
     "duration": 0.019973,
     "end_time": "2024-03-20T17:26:48.012308",
     "exception": false,
     "start_time": "2024-03-20T17:26:47.992335",
     "status": "completed"
    },
    "tags": []
   },
   "outputs": [],
   "source": [
    "df.to_csv(\"submission.csv\", index=False)"
   ]
  }
 ],
 "metadata": {
  "kaggle": {
   "accelerator": "none",
   "dataSources": [
    {
     "databundleVersionId": 26502,
     "sourceId": 3136,
     "sourceType": "competition"
    }
   ],
   "dockerImageVersionId": 30646,
   "isGpuEnabled": false,
   "isInternetEnabled": true,
   "language": "python",
   "sourceType": "notebook"
  },
  "kernelspec": {
   "display_name": "Python 3",
   "language": "python",
   "name": "python3"
  },
  "language_info": {
   "codemirror_mode": {
    "name": "ipython",
    "version": 3
   },
   "file_extension": ".py",
   "mimetype": "text/x-python",
   "name": "python",
   "nbconvert_exporter": "python",
   "pygments_lexer": "ipython3",
   "version": "3.10.13"
  },
  "papermill": {
   "default_parameters": {},
   "duration": 12.061102,
   "end_time": "2024-03-20T17:26:48.841539",
   "environment_variables": {},
   "exception": null,
   "input_path": "__notebook__.ipynb",
   "output_path": "__notebook__.ipynb",
   "parameters": {},
   "start_time": "2024-03-20T17:26:36.780437",
   "version": "2.5.0"
  }
 },
 "nbformat": 4,
 "nbformat_minor": 5
}
