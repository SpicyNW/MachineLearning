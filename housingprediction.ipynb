{
 "cells": [
  {
   "cell_type": "code",
   "execution_count": 1,
   "id": "0a24a921",
   "metadata": {
    "_cell_guid": "b1076dfc-b9ad-4769-8c92-a6c4dae69d19",
    "_uuid": "8f2839f25d086af736a60e9eeb907d3b93b6e0e5",
    "execution": {
     "iopub.execute_input": "2024-03-20T17:47:00.585447Z",
     "iopub.status.busy": "2024-03-20T17:47:00.584431Z",
     "iopub.status.idle": "2024-03-20T17:47:03.733946Z",
     "shell.execute_reply": "2024-03-20T17:47:03.732510Z"
    },
    "papermill": {
     "duration": 3.160861,
     "end_time": "2024-03-20T17:47:03.738039",
     "exception": false,
     "start_time": "2024-03-20T17:47:00.577178",
     "status": "completed"
    },
    "tags": []
   },
   "outputs": [
    {
     "name": "stdout",
     "output_type": "stream",
     "text": [
      "/kaggle/input/house-prices-advanced-regression-techniques/sample_submission.csv\n",
      "/kaggle/input/house-prices-advanced-regression-techniques/data_description.txt\n",
      "/kaggle/input/house-prices-advanced-regression-techniques/train.csv\n",
      "/kaggle/input/house-prices-advanced-regression-techniques/test.csv\n"
     ]
    }
   ],
   "source": [
    "# This Python 3 environment comes with many helpful analytics libraries installed\n",
    "# It is defined by the kaggle/python Docker image: https://github.com/kaggle/docker-python\n",
    "# For example, here's several helpful packages to load\n",
    "\n",
    "import numpy as np # linear algebra\n",
    "import pandas as pd # data processing, CSV file I/O (e.g. pd.read_csv)\n",
    "\n",
    "from sklearn.model_selection import train_test_split\n",
    "from sklearn.linear_model import LinearRegression\n",
    "from sklearn.metrics import mean_squared_error\n",
    "from sklearn.preprocessing import StandardScaler\n",
    "from sklearn.impute import SimpleImputer\n",
    "\n",
    "from math import sqrt\n",
    "# Input data files are available in the read-only \"../input/\" directory\n",
    "# For example, running this (by clicking run or pressing Shift+Enter) will list all files under the input directory\n",
    "\n",
    "import os\n",
    "for dirname, _, filenames in os.walk('/kaggle/input'):\n",
    "    for filename in filenames:\n",
    "        print(os.path.join(dirname, filename))\n",
    "\n",
    "# You can write up to 20GB to the current directory (/kaggle/working/) that gets preserved as output when you create a version using \"Save & Run All\" \n",
    "# You can also write temporary files to /kaggle/temp/, but they won't be saved outside of the current session"
   ]
  },
  {
   "cell_type": "code",
   "execution_count": 2,
   "id": "a7279e53",
   "metadata": {
    "execution": {
     "iopub.execute_input": "2024-03-20T17:47:03.750214Z",
     "iopub.status.busy": "2024-03-20T17:47:03.748896Z",
     "iopub.status.idle": "2024-03-20T17:47:03.857626Z",
     "shell.execute_reply": "2024-03-20T17:47:03.855635Z"
    },
    "papermill": {
     "duration": 0.118315,
     "end_time": "2024-03-20T17:47:03.861128",
     "exception": false,
     "start_time": "2024-03-20T17:47:03.742813",
     "status": "completed"
    },
    "tags": []
   },
   "outputs": [],
   "source": [
    "train_data= pd.read_csv('/kaggle/input/house-prices-advanced-regression-techniques/train.csv')\n",
    "test_data = pd.read_csv('/kaggle/input/house-prices-advanced-regression-techniques/test.csv')"
   ]
  },
  {
   "cell_type": "markdown",
   "id": "c36acba1",
   "metadata": {
    "papermill": {
     "duration": 0.005236,
     "end_time": "2024-03-20T17:47:03.871391",
     "exception": false,
     "start_time": "2024-03-20T17:47:03.866155",
     "status": "completed"
    },
    "tags": []
   },
   "source": [
    "**K-Neighbors**\n",
    "It does not do well with big data\n",
    "\n",
    "**Decision Tree Regressor**\n",
    "It is beneficial because the data does not need to be scaled.\n",
    "\n",
    "**Gradient Boosting**\n",
    "This decision tree model also doesn't care about data scaling. It can counter overfitting by adjusting parameters."
   ]
  },
  {
   "cell_type": "code",
   "execution_count": 3,
   "id": "fd20ba66",
   "metadata": {
    "execution": {
     "iopub.execute_input": "2024-03-20T17:47:03.885300Z",
     "iopub.status.busy": "2024-03-20T17:47:03.882941Z",
     "iopub.status.idle": "2024-03-20T17:47:04.458645Z",
     "shell.execute_reply": "2024-03-20T17:47:04.456973Z"
    },
    "papermill": {
     "duration": 0.585603,
     "end_time": "2024-03-20T17:47:04.462163",
     "exception": false,
     "start_time": "2024-03-20T17:47:03.876560",
     "status": "completed"
    },
    "tags": []
   },
   "outputs": [],
   "source": [
    "#Please make sure the import the related libraries as well.  \n",
    "#Below is the code for the regression_ function for you to copy/paste (please indent the code accordingly) :\n",
    "\n",
    "from sklearn.linear_model import LinearRegression, Ridge, Lasso, ElasticNet\n",
    "from sklearn.tree import ExtraTreeRegressor, DecisionTreeRegressor\n",
    "from sklearn.ensemble import GradientBoostingRegressor\n",
    "from xgboost import XGBRegressor\n",
    "from sklearn.neighbors import KNeighborsRegressor\n",
    "from sklearn.metrics import r2_score, mean_absolute_error\n",
    "\n",
    "\n",
    "def regression_(x,y,a, i):\n",
    "    #I include the regression models I will use.\n",
    "    L=LinearRegression()\n",
    "    R=Ridge(alpha=a)\n",
    "    Lass=Lasso(alpha=0.0001, max_iter=100000)\n",
    "    E=ElasticNet(alpha=a)\n",
    "    ETR=ExtraTreeRegressor(max_depth= i)\n",
    "    GBR=GradientBoostingRegressor(alpha=a, n_estimators=1200, learning_rate=0.1)\n",
    "    XGBC=XGBRegressor(max_depth=i)\n",
    "    dt=DecisionTreeRegressor(max_depth=i)\n",
    "    kn=KNeighborsRegressor(n_neighbors=3)\n",
    "    \n",
    "    #I separate the data as train and test. (20% test)\n",
    "    x_train,x_test,y_train,y_test=train_test_split(x,y,test_size=.2,random_state=42)\n",
    "    \n",
    "    #I put my models and model names in a list.\n",
    "    algos=[L,R,Lass,E,ETR,GBR,XGBC,dt,kn]\n",
    "    algo_names=['Linear','Ridge','Lasso(alpha=0.0001)','ElasticNet','Extra Tree','Gradient Boosting(n=1200, LR=0.1)','XGradientBoosting','DecisionTree','KNeighbors(n_neighbors=3)']\n",
    "    \n",
    "    #I create empty lists for error rates and success rates, which I will fill in later.\n",
    "    r2Score = []\n",
    "    rmse = []\n",
    "    mae = []\n",
    "    \n",
    "    #I am creating a dataframe as I want to see all results as a table.\n",
    "    #Its columns will be 'R2_score', 'RMSE', 'MAE'. The indexes will take from the string I created for the model names.\n",
    "    result=pd.DataFrame(columns=['R2_score','RMSE','MAE'],index=algo_names)\n",
    "    \n",
    "    #I run the regression algorithms for each model and find the results of r2_score, mean_absolute_error and mean_squared_error.\n",
    "    #And I add these results I found to the empty lists I created above with the append () function.\n",
    "    for algo in algos:\n",
    "        p=algo.fit(x_train,y_train).predict(x_test)\n",
    "        r2Score.append(r2_score(y_test,p))\n",
    "        rmse.append(mean_squared_error(y_test,p)**.5)\n",
    "        mae.append(mean_absolute_error(y_test,p))\n",
    "        \n",
    "    #I fill the columns in the table with these lists.\n",
    "    result['R2_score']=r2Score\n",
    "    result.RMSE=rmse\n",
    "    result.MAE=mae\n",
    "\n",
    "    #I sort my result table by r2_score value and return it.\n",
    "    return result.sort_values('R2_score',ascending=False)"
   ]
  },
  {
   "cell_type": "code",
   "execution_count": 4,
   "id": "11c12579",
   "metadata": {
    "execution": {
     "iopub.execute_input": "2024-03-20T17:47:04.472123Z",
     "iopub.status.busy": "2024-03-20T17:47:04.471635Z",
     "iopub.status.idle": "2024-03-20T17:47:12.600257Z",
     "shell.execute_reply": "2024-03-20T17:47:12.598465Z"
    },
    "papermill": {
     "duration": 8.137492,
     "end_time": "2024-03-20T17:47:12.603675",
     "exception": false,
     "start_time": "2024-03-20T17:47:04.466183",
     "status": "completed"
    },
    "tags": []
   },
   "outputs": [
    {
     "name": "stdout",
     "output_type": "stream",
     "text": [
      "Submission file 'submission.csv' created.\n"
     ]
    }
   ],
   "source": [
    "# Selecting features. This is a basic model, so we'll use only numerical features for simplicity,\n",
    "# and explicitly exclude the 'Id' column as it's not a predictive feature.\n",
    "features = train_data.select_dtypes(include=['int64', 'float64']).columns.drop(['SalePrice', 'Id'])\n",
    "X = train_data[features]\n",
    "y = train_data['SalePrice']\n",
    "X_test = test_data[features]\n",
    "\n",
    "# Data preprocessing\n",
    "# Impute missing values\n",
    "imputer = SimpleImputer()\n",
    "X = imputer.fit_transform(X)\n",
    "X_test = imputer.transform(X_test)\n",
    "\n",
    "# Feature scaling\n",
    "scaler = StandardScaler()\n",
    "X = scaler.fit_transform(X)\n",
    "X_test = scaler.transform(X_test)\n",
    "\n",
    "# Model training\n",
    "model = GradientBoostingRegressor(alpha=0.1, n_estimators=1200, learning_rate=0.1).fit(X, y)\n",
    "#model.fit(X, y)\n",
    "\n",
    "# Predictions\n",
    "predictions = model.predict(X_test)\n",
    "\n",
    "# Create submission file\n",
    "submission = pd.DataFrame({'Id': test_data['Id'], 'SalePrice': predictions})\n",
    "submission.to_csv('submission.csv', index=False)\n",
    "\n",
    "print(\"Submission file 'submission.csv' created.\")"
   ]
  },
  {
   "cell_type": "code",
   "execution_count": 5,
   "id": "484a34e4",
   "metadata": {
    "execution": {
     "iopub.execute_input": "2024-03-20T17:47:12.613344Z",
     "iopub.status.busy": "2024-03-20T17:47:12.612870Z",
     "iopub.status.idle": "2024-03-20T17:47:19.617230Z",
     "shell.execute_reply": "2024-03-20T17:47:19.615644Z"
    },
    "papermill": {
     "duration": 7.012867,
     "end_time": "2024-03-20T17:47:19.620310",
     "exception": false,
     "start_time": "2024-03-20T17:47:12.607443",
     "status": "completed"
    },
    "tags": []
   },
   "outputs": [
    {
     "data": {
      "text/html": [
       "<div>\n",
       "<style scoped>\n",
       "    .dataframe tbody tr th:only-of-type {\n",
       "        vertical-align: middle;\n",
       "    }\n",
       "\n",
       "    .dataframe tbody tr th {\n",
       "        vertical-align: top;\n",
       "    }\n",
       "\n",
       "    .dataframe thead th {\n",
       "        text-align: right;\n",
       "    }\n",
       "</style>\n",
       "<table border=\"1\" class=\"dataframe\">\n",
       "  <thead>\n",
       "    <tr style=\"text-align: right;\">\n",
       "      <th></th>\n",
       "      <th>R2_score</th>\n",
       "      <th>RMSE</th>\n",
       "      <th>MAE</th>\n",
       "    </tr>\n",
       "  </thead>\n",
       "  <tbody>\n",
       "    <tr>\n",
       "      <th>Gradient Boosting(n=1200, LR=0.1)</th>\n",
       "      <td>0.896410</td>\n",
       "      <td>28188.158534</td>\n",
       "      <td>17223.819827</td>\n",
       "    </tr>\n",
       "    <tr>\n",
       "      <th>XGradientBoosting</th>\n",
       "      <td>0.870883</td>\n",
       "      <td>31470.127555</td>\n",
       "      <td>20209.497646</td>\n",
       "    </tr>\n",
       "    <tr>\n",
       "      <th>Linear</th>\n",
       "      <td>0.823164</td>\n",
       "      <td>36829.169083</td>\n",
       "      <td>22981.338523</td>\n",
       "    </tr>\n",
       "    <tr>\n",
       "      <th>Ridge</th>\n",
       "      <td>0.823151</td>\n",
       "      <td>36830.506980</td>\n",
       "      <td>22979.594315</td>\n",
       "    </tr>\n",
       "    <tr>\n",
       "      <th>Lasso(alpha=0.0001)</th>\n",
       "      <td>0.823151</td>\n",
       "      <td>36830.593777</td>\n",
       "      <td>22980.495906</td>\n",
       "    </tr>\n",
       "    <tr>\n",
       "      <th>ElasticNet</th>\n",
       "      <td>0.822723</td>\n",
       "      <td>36875.104420</td>\n",
       "      <td>22611.668095</td>\n",
       "    </tr>\n",
       "    <tr>\n",
       "      <th>KNeighbors(n_neighbors=3)</th>\n",
       "      <td>0.792917</td>\n",
       "      <td>39854.642961</td>\n",
       "      <td>23143.476027</td>\n",
       "    </tr>\n",
       "    <tr>\n",
       "      <th>DecisionTree</th>\n",
       "      <td>0.446135</td>\n",
       "      <td>65179.178177</td>\n",
       "      <td>46155.509182</td>\n",
       "    </tr>\n",
       "    <tr>\n",
       "      <th>Extra Tree</th>\n",
       "      <td>0.307484</td>\n",
       "      <td>72882.277667</td>\n",
       "      <td>51045.814174</td>\n",
       "    </tr>\n",
       "  </tbody>\n",
       "</table>\n",
       "</div>"
      ],
      "text/plain": [
       "                                   R2_score          RMSE           MAE\n",
       "Gradient Boosting(n=1200, LR=0.1)  0.896410  28188.158534  17223.819827\n",
       "XGradientBoosting                  0.870883  31470.127555  20209.497646\n",
       "Linear                             0.823164  36829.169083  22981.338523\n",
       "Ridge                              0.823151  36830.506980  22979.594315\n",
       "Lasso(alpha=0.0001)                0.823151  36830.593777  22980.495906\n",
       "ElasticNet                         0.822723  36875.104420  22611.668095\n",
       "KNeighbors(n_neighbors=3)          0.792917  39854.642961  23143.476027\n",
       "DecisionTree                       0.446135  65179.178177  46155.509182\n",
       "Extra Tree                         0.307484  72882.277667  51045.814174"
      ]
     },
     "execution_count": 5,
     "metadata": {},
     "output_type": "execute_result"
    }
   ],
   "source": [
    "# Run the regression_ fx to see which algorithm does the best\n",
    "regression_(X, y, 0.1, 1)"
   ]
  }
 ],
 "metadata": {
  "kaggle": {
   "accelerator": "none",
   "dataSources": [
    {
     "databundleVersionId": 868283,
     "sourceId": 5407,
     "sourceType": "competition"
    }
   ],
   "dockerImageVersionId": 30646,
   "isGpuEnabled": false,
   "isInternetEnabled": true,
   "language": "python",
   "sourceType": "notebook"
  },
  "kernelspec": {
   "display_name": "Python 3",
   "language": "python",
   "name": "python3"
  },
  "language_info": {
   "codemirror_mode": {
    "name": "ipython",
    "version": 3
   },
   "file_extension": ".py",
   "mimetype": "text/x-python",
   "name": "python",
   "nbconvert_exporter": "python",
   "pygments_lexer": "ipython3",
   "version": "3.10.13"
  },
  "papermill": {
   "default_parameters": {},
   "duration": 23.590582,
   "end_time": "2024-03-20T17:47:20.548999",
   "environment_variables": {},
   "exception": null,
   "input_path": "__notebook__.ipynb",
   "output_path": "__notebook__.ipynb",
   "parameters": {},
   "start_time": "2024-03-20T17:46:56.958417",
   "version": "2.5.0"
  }
 },
 "nbformat": 4,
 "nbformat_minor": 5
}
